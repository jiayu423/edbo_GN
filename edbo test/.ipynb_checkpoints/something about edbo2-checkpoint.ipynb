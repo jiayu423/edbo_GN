{
 "cells": [
  {
   "cell_type": "code",
   "execution_count": 8,
   "id": "e6feef15",
   "metadata": {},
   "outputs": [],
   "source": [
    "import numpy as np\n",
    "import matplotlib.pyplot as plt\n",
    "import edbo\n",
    "import pandas as pd\n",
    "from data_anal_tools import appendResToEdbo, propose_exp\n",
    "# from monitor_hplc_folder import HPLC_watch\n",
    "from gpytorch.priors import GammaPrior"
   ]
  },
  {
   "cell_type": "code",
   "execution_count": null,
   "id": "e1bab29d",
   "metadata": {},
   "outputs": [],
   "source": [
    "# define design space\n",
    "VARIABLES = {\n",
    "    # (<start>, <end>, <n_states>)\n",
    "    'residence_time': np.linspace(2, 100, 5),  \n",
    "    'temperature': np.linspace(30, 150, 5),\n",
    "    'dppa': np.linspace(1, 3, 5),\n",
    "    'isoporopanol': np.linspace(1, 3, 5)\n",
    "    'dosing rate': np.linpsace(1,3,5)\n",
    "}"
   ]
  },
  {
   "cell_type": "code",
   "execution_count": null,
   "id": "a313c40f",
   "metadata": {},
   "outputs": [],
   "source": [
    "domain  = pd.DataFrame(VARIABLES)\n",
    "target = 'yield' # give a name to the DataFrame column"
   ]
  },
  {
   "cell_type": "code",
   "execution_count": 1,
   "id": "c525fda8",
   "metadata": {},
   "outputs": [],
   "source": [
    "# defualt trade-off = 0.01\n",
    "acquisition_function = 'EI'"
   ]
  },
  {
   "cell_type": "markdown",
   "id": "c2b8e26f",
   "metadata": {},
   "source": [
    "Improvement function for an input: \n",
    "$$ \\mathrm{I}(\\mathbf{x}) = \\max \\{0, f_{t+1}(\\mathbf{x}) - \\mu_t^+ \\} $$\n",
    "\n",
    "Expected Improvements: \n",
    "$$ \\mathrm{EI}(\\mathbf{x}) = (\\mu_t(\\mathbf{x}) - \\mu_t^+) \\Phi(Z) + \\sigma_t(\\mathbf{x}) \\phi(Z) \\quad \\text{with} \\quad Z = \\frac{\\mu_t(\\mathbf{x}) - \\mu_t^+}{\\sigma_t(\\mathbf{x})}$$ \n",
    "\n",
    "Exploration-Exploitation Trade-off\n",
    "$$ \\mathrm{EI}(\\mathbf{x}) = (\\mu_t(\\mathbf{x}) - \\mu_t^+ - \\xi) \\Phi(Z) + \\sigma_t(\\mathbf{x}) \\phi(Z) \\quad$$"
   ]
  },
  {
   "cell_type": "code",
   "execution_count": null,
   "id": "e81c927e",
   "metadata": {},
   "outputs": [],
   "source": [
    "init_method  = 'rand' # propose initial set of exps\n",
    "batch_size = 1 # number of exps proposed during each iteration"
   ]
  },
  {
   "cell_type": "code",
   "execution_count": null,
   "id": "b798e705",
   "metadata": {},
   "outputs": [],
   "source": [
    "# base_kernel = matern 52 with constant mean funtion\n",
    "lengthscale_prior = [GammaPrior(1.2, 1.1), 0.2] # GP prior and initial value, can be anisotropic\n",
    "noise_prior = [GammaPrior(1.2, 1.1), 0.2]"
   ]
  },
  {
   "cell_type": "code",
   "execution_count": 12,
   "id": "005cf0df",
   "metadata": {},
   "outputs": [
    {
     "data": {
      "image/png": "[encoded data removed]",
      "text/plain": [
       "<Figure size 576x216 with 2 Axes>"
      ]
     },
     "metadata": {
      "needs_background": "light"
     },
     "output_type": "display_data"
    }
   ],
   "source": [
    "fig, axes = plt.subplots(1, 2, figsize=(8, 3))\n",
    "x = np.logspace(-6, 1, 200)\n",
    "axes[0].semilogx(x, np.exp(GammaPrior(1.2, 1.1).log_prob(x)))\n",
    "axes[0].set_title('gamma(1.2, 1.1)')\n",
    "axes[1].semilogx(x, np.exp(GammaPrior(1., 1.).log_prob(x)))\n",
    "axes[1].set_title('gamma(1., 1.)')\n",
    "plt.show()"
   ]
  },
  {
   "cell_type": "code",
   "execution_count": null,
   "id": "e361f691",
   "metadata": {},
   "outputs": [],
   "source": [
    "bo = edbo.bro.BO(domain=domain, \n",
    "                 target=target, \n",
    "                 acquisition_function=acquisition_function,\n",
    "                 init_method=init_method,\n",
    "                 lengthscale_prior=lengthscale_prior, \n",
    "                 noise_prior=noise_prior, \n",
    "                 batch_size=batch_size, \n",
    "                 fast_comp=False, # not using gpytorch to accelerate computation\n",
    "                 computational_objective=None) "
   ]
  },
  {
   "cell_type": "code",
   "execution_count": null,
   "id": "837c1a09",
   "metadata": {},
   "outputs": [],
   "source": [
    "# generate initial proposals\n",
    "bo.init_sample()"
   ]
  },
  {
   "cell_type": "code",
   "execution_count": null,
   "id": "d9dbb095",
   "metadata": {},
   "outputs": [],
   "source": [
    "# a very rough autonomous loop\n",
    "#  need stop conditions\n",
    "while True: \n",
    "\n",
    "    prop_to_instrument()\n",
    "\n",
    "    monitor_data()\n",
    "\n",
    "    process_data()\n",
    "    \n",
    "    bo.run()"
   ]
  }
 ],
 "metadata": {
  "kernelspec": {
   "display_name": "Python 3 (ipykernel)",
   "language": "python",
   "name": "python3"
  },
  "language_info": {
   "codemirror_mode": {
    "name": "ipython",
    "version": 3
   },
   "file_extension": ".py",
   "mimetype": "text/x-python",
   "name": "python",
   "nbconvert_exporter": "python",
   "pygments_lexer": "ipython3",
   "version": "3.7.5"
  }
 },
 "nbformat": 4,
 "nbformat_minor": 5
}
